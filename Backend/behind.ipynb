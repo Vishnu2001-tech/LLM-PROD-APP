{
 "cells": [
  {
   "cell_type": "markdown",
   "metadata": {},
   "source": [
    "# Backend with FastAPI and SQLAlchemy"
   ]
  },
  {
   "cell_type": "markdown",
   "metadata": {},
   "source": [
    "### Install necessary packages for Database"
   ]
  },
  {
   "cell_type": "code",
   "execution_count": 2,
   "metadata": {},
   "outputs": [
    {
     "name": "stdout",
     "output_type": "stream",
     "text": [
      "Requirement already satisfied: sqlalchemy in c:\\vishnu conda\\envs\\llm\\lib\\site-packages (2.0.30)\n",
      "Requirement already satisfied: typing-extensions>=4.6.0 in c:\\vishnu conda\\envs\\llm\\lib\\site-packages (from sqlalchemy) (4.12.2)\n",
      "Requirement already satisfied: greenlet!=0.4.17 in c:\\vishnu conda\\envs\\llm\\lib\\site-packages (from sqlalchemy) (3.0.3)\n"
     ]
    }
   ],
   "source": [
    "!pip install sqlalchemy"
   ]
  },
  {
   "cell_type": "markdown",
   "metadata": {},
   "source": [
    "### Install necessary packages for the backend"
   ]
  },
  {
   "cell_type": "code",
   "execution_count": 1,
   "metadata": {},
   "outputs": [
    {
     "name": "stdout",
     "output_type": "stream",
     "text": [
      "Requirement already satisfied: fastapi in c:\\vishnu conda\\envs\\llm\\lib\\site-packages (0.111.0)\n",
      "Requirement already satisfied: alembic in c:\\vishnu conda\\envs\\llm\\lib\\site-packages (1.13.2)\n",
      "Requirement already satisfied: psycopg2 in c:\\vishnu conda\\envs\\llm\\lib\\site-packages (2.9.9)\n",
      "Requirement already satisfied: pytest in c:\\vishnu conda\\envs\\llm\\lib\\site-packages (8.2.2)\n",
      "Requirement already satisfied: requests in c:\\vishnu conda\\envs\\llm\\lib\\site-packages (2.32.3)\n",
      "Requirement already satisfied: pydantic_settings in c:\\vishnu conda\\envs\\llm\\lib\\site-packages (2.3.4)\n",
      "Requirement already satisfied: uvicorn[standard] in c:\\vishnu conda\\envs\\llm\\lib\\site-packages (0.30.1)\n",
      "Requirement already satisfied: starlette<0.38.0,>=0.37.2 in c:\\vishnu conda\\envs\\llm\\lib\\site-packages (from fastapi) (0.37.2)\n",
      "Requirement already satisfied: pydantic!=1.8,!=1.8.1,!=2.0.0,!=2.0.1,!=2.1.0,<3.0.0,>=1.7.4 in c:\\vishnu conda\\envs\\llm\\lib\\site-packages (from fastapi) (2.7.4)\n",
      "Requirement already satisfied: typing-extensions>=4.8.0 in c:\\vishnu conda\\envs\\llm\\lib\\site-packages (from fastapi) (4.12.2)\n",
      "Requirement already satisfied: fastapi-cli>=0.0.2 in c:\\vishnu conda\\envs\\llm\\lib\\site-packages (from fastapi) (0.0.4)\n",
      "Requirement already satisfied: httpx>=0.23.0 in c:\\vishnu conda\\envs\\llm\\lib\\site-packages (from fastapi) (0.27.0)\n",
      "Requirement already satisfied: jinja2>=2.11.2 in c:\\vishnu conda\\envs\\llm\\lib\\site-packages (from fastapi) (3.1.4)\n",
      "Requirement already satisfied: python-multipart>=0.0.7 in c:\\vishnu conda\\envs\\llm\\lib\\site-packages (from fastapi) (0.0.9)\n",
      "Requirement already satisfied: ujson!=4.0.2,!=4.1.0,!=4.2.0,!=4.3.0,!=5.0.0,!=5.1.0,>=4.0.1 in c:\\vishnu conda\\envs\\llm\\lib\\site-packages (from fastapi) (5.10.0)\n",
      "Requirement already satisfied: orjson>=3.2.1 in c:\\vishnu conda\\envs\\llm\\lib\\site-packages (from fastapi) (3.10.5)\n",
      "Requirement already satisfied: email_validator>=2.0.0 in c:\\vishnu conda\\envs\\llm\\lib\\site-packages (from fastapi) (2.2.0)\n",
      "Requirement already satisfied: click>=7.0 in c:\\vishnu conda\\envs\\llm\\lib\\site-packages (from uvicorn[standard]) (8.1.7)\n",
      "Requirement already satisfied: h11>=0.8 in c:\\vishnu conda\\envs\\llm\\lib\\site-packages (from uvicorn[standard]) (0.14.0)\n",
      "Requirement already satisfied: colorama>=0.4 in c:\\vishnu conda\\envs\\llm\\lib\\site-packages (from uvicorn[standard]) (0.4.6)\n",
      "Requirement already satisfied: httptools>=0.5.0 in c:\\vishnu conda\\envs\\llm\\lib\\site-packages (from uvicorn[standard]) (0.6.1)\n",
      "Requirement already satisfied: python-dotenv>=0.13 in c:\\vishnu conda\\envs\\llm\\lib\\site-packages (from uvicorn[standard]) (1.0.1)\n",
      "Requirement already satisfied: pyyaml>=5.1 in c:\\vishnu conda\\envs\\llm\\lib\\site-packages (from uvicorn[standard]) (6.0.1)\n",
      "Requirement already satisfied: watchfiles>=0.13 in c:\\vishnu conda\\envs\\llm\\lib\\site-packages (from uvicorn[standard]) (0.22.0)\n",
      "Requirement already satisfied: websockets>=10.4 in c:\\vishnu conda\\envs\\llm\\lib\\site-packages (from uvicorn[standard]) (12.0)\n",
      "Requirement already satisfied: SQLAlchemy>=1.3.0 in c:\\vishnu conda\\envs\\llm\\lib\\site-packages (from alembic) (2.0.30)\n",
      "Requirement already satisfied: Mako in c:\\vishnu conda\\envs\\llm\\lib\\site-packages (from alembic) (1.3.5)\n",
      "Requirement already satisfied: importlib-metadata in c:\\vishnu conda\\envs\\llm\\lib\\site-packages (from alembic) (7.1.0)\n",
      "Requirement already satisfied: importlib-resources in c:\\vishnu conda\\envs\\llm\\lib\\site-packages (from alembic) (6.4.0)\n",
      "Requirement already satisfied: iniconfig in c:\\vishnu conda\\envs\\llm\\lib\\site-packages (from pytest) (2.0.0)\n",
      "Requirement already satisfied: packaging in c:\\vishnu conda\\envs\\llm\\lib\\site-packages (from pytest) (24.1)\n",
      "Requirement already satisfied: pluggy<2.0,>=1.5 in c:\\vishnu conda\\envs\\llm\\lib\\site-packages (from pytest) (1.5.0)\n",
      "Requirement already satisfied: exceptiongroup>=1.0.0rc8 in c:\\vishnu conda\\envs\\llm\\lib\\site-packages (from pytest) (1.2.1)\n",
      "Requirement already satisfied: tomli>=1 in c:\\vishnu conda\\envs\\llm\\lib\\site-packages (from pytest) (2.0.1)\n",
      "Requirement already satisfied: charset-normalizer<4,>=2 in c:\\vishnu conda\\envs\\llm\\lib\\site-packages (from requests) (3.3.2)\n",
      "Requirement already satisfied: idna<4,>=2.5 in c:\\vishnu conda\\envs\\llm\\lib\\site-packages (from requests) (3.7)\n",
      "Requirement already satisfied: urllib3<3,>=1.21.1 in c:\\vishnu conda\\envs\\llm\\lib\\site-packages (from requests) (2.2.2)\n",
      "Requirement already satisfied: certifi>=2017.4.17 in c:\\vishnu conda\\envs\\llm\\lib\\site-packages (from requests) (2024.6.2)\n",
      "Requirement already satisfied: dnspython>=2.0.0 in c:\\vishnu conda\\envs\\llm\\lib\\site-packages (from email_validator>=2.0.0->fastapi) (2.6.1)\n",
      "Requirement already satisfied: typer>=0.12.3 in c:\\vishnu conda\\envs\\llm\\lib\\site-packages (from fastapi-cli>=0.0.2->fastapi) (0.12.3)\n",
      "Requirement already satisfied: anyio in c:\\vishnu conda\\envs\\llm\\lib\\site-packages (from httpx>=0.23.0->fastapi) (4.4.0)\n",
      "Requirement already satisfied: httpcore==1.* in c:\\vishnu conda\\envs\\llm\\lib\\site-packages (from httpx>=0.23.0->fastapi) (1.0.5)\n",
      "Requirement already satisfied: sniffio in c:\\vishnu conda\\envs\\llm\\lib\\site-packages (from httpx>=0.23.0->fastapi) (1.3.1)\n",
      "Requirement already satisfied: MarkupSafe>=2.0 in c:\\vishnu conda\\envs\\llm\\lib\\site-packages (from jinja2>=2.11.2->fastapi) (2.1.5)\n",
      "Requirement already satisfied: annotated-types>=0.4.0 in c:\\vishnu conda\\envs\\llm\\lib\\site-packages (from pydantic!=1.8,!=1.8.1,!=2.0.0,!=2.0.1,!=2.1.0,<3.0.0,>=1.7.4->fastapi) (0.7.0)\n",
      "Requirement already satisfied: pydantic-core==2.18.4 in c:\\vishnu conda\\envs\\llm\\lib\\site-packages (from pydantic!=1.8,!=1.8.1,!=2.0.0,!=2.0.1,!=2.1.0,<3.0.0,>=1.7.4->fastapi) (2.18.4)\n",
      "Requirement already satisfied: greenlet!=0.4.17 in c:\\vishnu conda\\envs\\llm\\lib\\site-packages (from SQLAlchemy>=1.3.0->alembic) (3.0.3)\n",
      "Requirement already satisfied: zipp>=0.5 in c:\\vishnu conda\\envs\\llm\\lib\\site-packages (from importlib-metadata->alembic) (3.19.2)\n",
      "Requirement already satisfied: shellingham>=1.3.0 in c:\\vishnu conda\\envs\\llm\\lib\\site-packages (from typer>=0.12.3->fastapi-cli>=0.0.2->fastapi) (1.5.4)\n",
      "Requirement already satisfied: rich>=10.11.0 in c:\\vishnu conda\\envs\\llm\\lib\\site-packages (from typer>=0.12.3->fastapi-cli>=0.0.2->fastapi) (13.7.1)\n",
      "Requirement already satisfied: markdown-it-py>=2.2.0 in c:\\vishnu conda\\envs\\llm\\lib\\site-packages (from rich>=10.11.0->typer>=0.12.3->fastapi-cli>=0.0.2->fastapi) (3.0.0)\n",
      "Requirement already satisfied: pygments<3.0.0,>=2.13.0 in c:\\vishnu conda\\envs\\llm\\lib\\site-packages (from rich>=10.11.0->typer>=0.12.3->fastapi-cli>=0.0.2->fastapi) (2.18.0)\n",
      "Requirement already satisfied: mdurl~=0.1 in c:\\vishnu conda\\envs\\llm\\lib\\site-packages (from markdown-it-py>=2.2.0->rich>=10.11.0->typer>=0.12.3->fastapi-cli>=0.0.2->fastapi) (0.1.2)\n"
     ]
    }
   ],
   "source": [
    "!pip install fastapi \"uvicorn[standard]\" alembic psycopg2 pytest requests pydantic_settings"
   ]
  },
  {
   "cell_type": "markdown",
   "metadata": {},
   "source": [
    "### Save them in requirements.txt"
   ]
  },
  {
   "cell_type": "code",
   "execution_count": 2,
   "metadata": {},
   "outputs": [],
   "source": [
    "!pip freeze > requirements.txt"
   ]
  },
  {
   "cell_type": "markdown",
   "metadata": {},
   "source": [
    "### Create the Postgre Database\n"
   ]
  },
  {
   "cell_type": "code",
   "execution_count": 6,
   "metadata": {},
   "outputs": [
    {
     "name": "stdout",
     "output_type": "stream",
     "text": [
      "^C\n"
     ]
    }
   ],
   "source": [
    "!createdb mydatabase"
   ]
  },
  {
   "cell_type": "code",
   "execution_count": 19,
   "metadata": {},
   "outputs": [
    {
     "name": "stdout",
     "output_type": "stream",
     "text": [
      "c:\\Vishnu Conda\\envs\\LLM;C:\\Vishnu Conda\\envs\\LLM;C:\\Vishnu Conda\\envs\\LLM\\Library\\mingw-w64\\bin;C:\\Vishnu Conda\\envs\\LLM\\Library\\usr\\bin;C:\\Vishnu Conda\\envs\\LLM\\Library\\bin;C:\\Vishnu Conda\\envs\\LLM\\Scripts;C:\\Vishnu Conda\\envs\\LLM\\bin;C:\\Vishnu Conda\\condabin;C:\\Program Files\\Common Files\\Oracle\\Java\\javapath;C:\\Program Files\\Microsoft HPC Pack 2008 R2\\Bin;C:\\Windows\\system32;C:\\Windows;C:\\Windows\\System32\\Wbem;C:\\Windows\\System32\\WindowsPowerShell\\v1.0;C:\\Windows\\System32\\OpenSSH;C:\\Program Files\\dotnet;C:\\Users\\GurumurthyThonukunoo\\AppData\\Local\\Microsoft\\WindowsApps;C:\\Users\\GurumurthyThonukunoo\\AppData\\Local\\Programs\\Microsoft VS Code\\bin;C:\\Users\\GurumurthyThonukunoo\\AppData\\Roaming\\npm;C:\\adb;C:\\Program Files\\Git LFS;C:\\Program Files (x86)\\dotnet;C:\\Program Files\\Docker\\Docker\\resources\\bin;C:\\Program Files\\Git\\cmd;C:\\Program Files\\Java\\jdk-18.0.2.1\\bin;D:\\Android Studio\\bin;D:\\;C:\\Users\\GurumurthyThonukunoo\\AppData\\Local\\Packages\\PythonSoftwareFoundation.Python.3.9_qbz5n2kfra8p0\\LocalCache\\local-packages\\Python39\\site-packages;C:\\Users\\GurumurthyThonukunoo\\AppData\\Roaming\\nvm;C:\\Program Files\\nodejs;C:\\Program Files\\nodejs;C:\\Program Files\\Amazon\\AWSSAMCLI\\bin;C:\\Program Files\\MySQL\\MySQL Shell 8.0\\bin;C:\\Users\\GurumurthyThonukunoo\\.cargo\\bin;C:\\Users\\GurumurthyThonukunoo\\AppData\\Local\\Microsoft\\WindowsApps;C:\\Program Files\\heroku\\bin;D:\\Microsoft VS Code\\bin;C:\\Users\\GurumurthyThonukunoo\\AppData\\Local\\Programs\\Microsoft VS Code\\bin;C:\\Users\\GurumurthyThonukunoo\\AppData\\Roaming\\nvm;C:\\Program Files\\nodejs;C:\\Users\\GurumurthyThonukunoo\\AppData\\Roaming\\npm;C:\\Vishnu Conda\\envs\\LLM\\Scripts;C:\\Vishnu Conda\\envs\\LLM\\Scripts;C:\\Program Files\\PostgreSQL\\16\\bin\n"
     ]
    }
   ],
   "source": [
    "import os\n",
    "\n",
    "# Define the PostgreSQL bin directory\n",
    "postgres_bin_dir = r'C:\\Program Files\\PostgreSQL\\16\\bin'\n",
    "\n",
    "# Add it to the PATH environment variable\n",
    "os.environ['PATH'] += os.pathsep + postgres_bin_dir\n",
    "\n",
    "# Verify the updated PATH\n",
    "print(os.getenv('PATH'))\n",
    "\n",
    "\n"
   ]
  },
  {
   "cell_type": "code",
   "execution_count": 20,
   "metadata": {},
   "outputs": [
    {
     "name": "stdout",
     "output_type": "stream",
     "text": [
      ":5432 - accepting connections\n"
     ]
    }
   ],
   "source": [
    "# Check PostgreSQL server status\n",
    "!pg_isready\n"
   ]
  },
  {
   "cell_type": "code",
   "execution_count": 17,
   "metadata": {},
   "outputs": [
    {
     "name": "stdout",
     "output_type": "stream",
     "text": [
      "Connection successful\n",
      "An error occurred: database \"mydatabase\" already exists\n",
      "\n"
     ]
    }
   ],
   "source": [
    "import psycopg2\n",
    "from psycopg2.extensions import ISOLATION_LEVEL_AUTOCOMMIT\n",
    "import time\n",
    "\n",
    "# Replace these values with your actual PostgreSQL credentials\n",
    "user = 'postgres'\n",
    "password = '#Mushoku200301'\n",
    "host = 'localhost'\n",
    "port = '5432'\n",
    "dbname = 'postgres'  # Use the default database for the initial connection\n",
    "\n",
    "try:\n",
    "    # Connect to the PostgreSQL server\n",
    "    conn = psycopg2.connect(dbname=dbname, user=user, password=password, host=host, port=port, connect_timeout=10)\n",
    "    conn.set_isolation_level(ISOLATION_LEVEL_AUTOCOMMIT)\n",
    "    print(\"Connection successful\")\n",
    "\n",
    "    # Create a new database\n",
    "    cursor = conn.cursor()\n",
    "    start_time = time.time()\n",
    "    cursor.execute('CREATE DATABASE mydatabase')\n",
    "    end_time = time.time()\n",
    "    print(f\"Database 'mydatabase' created successfully in {end_time - start_time} seconds\")\n",
    "\n",
    "except Exception as e:\n",
    "    print(f\"An error occurred: {e}\")\n",
    "\n",
    "finally:\n",
    "    cursor.close()\n",
    "    conn.close()"
   ]
  },
  {
   "cell_type": "code",
   "execution_count": 3,
   "metadata": {},
   "outputs": [
    {
     "name": "stdout",
     "output_type": "stream",
     "text": [
      "^C\n"
     ]
    }
   ],
   "source": [
    "!uvicorn main:app --reload"
   ]
  },
  {
   "cell_type": "code",
   "execution_count": 10,
   "metadata": {},
   "outputs": [
    {
     "name": "stdout",
     "output_type": "stream",
     "text": [
      "Requirement already satisfied: hypercorn in c:\\vishnu conda\\envs\\llm\\lib\\site-packages (0.17.3)\n",
      "Requirement already satisfied: exceptiongroup>=1.1.0 in c:\\vishnu conda\\envs\\llm\\lib\\site-packages (from hypercorn) (1.2.1)\n",
      "Requirement already satisfied: h11 in c:\\vishnu conda\\envs\\llm\\lib\\site-packages (from hypercorn) (0.14.0)\n",
      "Requirement already satisfied: h2>=3.1.0 in c:\\vishnu conda\\envs\\llm\\lib\\site-packages (from hypercorn) (4.1.0)\n",
      "Requirement already satisfied: priority in c:\\vishnu conda\\envs\\llm\\lib\\site-packages (from hypercorn) (2.0.0)\n",
      "Requirement already satisfied: taskgroup in c:\\vishnu conda\\envs\\llm\\lib\\site-packages (from hypercorn) (0.0.0a4)\n",
      "Requirement already satisfied: tomli in c:\\vishnu conda\\envs\\llm\\lib\\site-packages (from hypercorn) (2.0.1)\n",
      "Requirement already satisfied: typing_extensions in c:\\vishnu conda\\envs\\llm\\lib\\site-packages (from hypercorn) (4.12.2)\n",
      "Requirement already satisfied: wsproto>=0.14.0 in c:\\vishnu conda\\envs\\llm\\lib\\site-packages (from hypercorn) (1.2.0)\n",
      "Requirement already satisfied: hyperframe<7,>=6.0 in c:\\vishnu conda\\envs\\llm\\lib\\site-packages (from h2>=3.1.0->hypercorn) (6.0.1)\n",
      "Requirement already satisfied: hpack<5,>=4.0 in c:\\vishnu conda\\envs\\llm\\lib\\site-packages (from h2>=3.1.0->hypercorn) (4.0.0)\n"
     ]
    }
   ],
   "source": [
    "!pip install hypercorn\n"
   ]
  },
  {
   "cell_type": "code",
   "execution_count": 11,
   "metadata": {},
   "outputs": [
    {
     "name": "stderr",
     "output_type": "stream",
     "text": [
      "Traceback (most recent call last):\n",
      "  File \"C:\\Vishnu Conda\\envs\\LLM\\lib\\site-packages\\hypercorn\\utils.py\", line 117, in load_application\n",
      "    app = eval(app_name, vars(module))\n",
      "  File \"<string>\", line 1, in <module>\n",
      "NameError: name 'app' is not defined\n",
      "\n",
      "During handling of the above exception, another exception occurred:\n",
      "\n",
      "Traceback (most recent call last):\n",
      "  File \"C:\\Vishnu Conda\\envs\\LLM\\lib\\runpy.py\", line 194, in _run_module_as_main\n",
      "    return _run_code(code, main_globals, None,\n",
      "  File \"C:\\Vishnu Conda\\envs\\LLM\\lib\\runpy.py\", line 87, in _run_code\n",
      "    exec(code, run_globals)\n",
      "  File \"C:\\Vishnu Conda\\envs\\LLM\\Scripts\\hypercorn.exe\\__main__.py\", line 7, in <module>\n",
      "    sys.exit(main())\n",
      "  File \"C:\\Vishnu Conda\\envs\\LLM\\lib\\site-packages\\hypercorn\\__main__.py\", line 304, in main\n",
      "    return run(config)\n",
      "  File \"C:\\Vishnu Conda\\envs\\LLM\\lib\\site-packages\\hypercorn\\run.py\", line 51, in run\n",
      "    load_application(config.application_path, config.wsgi_max_body_size)\n",
      "  File \"C:\\Vishnu Conda\\envs\\LLM\\lib\\site-packages\\hypercorn\\utils.py\", line 119, in load_application\n",
      "    raise NoAppError(f\"Cannot load application from '{path}', application not found.\")\n",
      "hypercorn.utils.NoAppError: Cannot load application from 'main:app', application not found.\n"
     ]
    }
   ],
   "source": [
    "!hypercorn main:app --reload\n"
   ]
  },
  {
   "cell_type": "code",
   "execution_count": 1,
   "metadata": {},
   "outputs": [],
   "source": [
    "import subprocess\n",
    "\n",
    "# Define the command as a list of arguments\n",
    "command = [\"hypercorn\", \"main:app\", \"--reload\"]\n",
    "\n",
    "# Start the server in a new subprocess\n",
    "process = subprocess.Popen(command)\n",
    "\n",
    "# The process will continue running in the background\n",
    "\n"
   ]
  },
  {
   "cell_type": "code",
   "execution_count": 2,
   "metadata": {},
   "outputs": [
    {
     "name": "stdout",
     "output_type": "stream",
     "text": [
      "^C\n"
     ]
    },
    {
     "name": "stderr",
     "output_type": "stream",
     "text": [
      "[2024-07-01 13:28:02 -0400] [37728] [INFO] Running on http://127.0.0.1:8000 (CTRL + C to quit)\n",
      "Process SpawnProcess-1:\n",
      "Traceback (most recent call last):\n",
      "  File \"C:\\Vishnu Conda\\envs\\LLM\\lib\\site-packages\\taskgroup\\runners.py\", line 125, in run\n",
      "    return self._loop.run_until_complete(task)\n",
      "  File \"C:\\Vishnu Conda\\envs\\LLM\\lib\\asyncio\\base_events.py\", line 616, in run_until_complete\n",
      "    return future.result()\n",
      "asyncio.exceptions.CancelledError\n",
      "\n",
      "During handling of the above exception, another exception occurred:\n",
      "\n",
      "Traceback (most recent call last):\n",
      "  File \"C:\\Vishnu Conda\\envs\\LLM\\lib\\site-packages\\hypercorn\\asyncio\\run.py\", line 234, in _run\n",
      "    runner.run(main(shutdown_trigger=shutdown_trigger))\n",
      "  File \"C:\\Vishnu Conda\\envs\\LLM\\lib\\site-packages\\taskgroup\\runners.py\", line 128, in run\n",
      "    raise KeyboardInterrupt()\n",
      "KeyboardInterrupt\n",
      "\n",
      "During handling of the above exception, another exception occurred:\n",
      "\n",
      "Traceback (most recent call last):\n",
      "  File \"C:\\Vishnu Conda\\envs\\LLM\\lib\\multiprocessing\\process.py\", line 315, in _bootstrap\n",
      "    self.run()\n",
      "  File \"C:\\Vishnu Conda\\envs\\LLM\\lib\\multiprocessing\\process.py\", line 108, in run\n",
      "    self._target(*self._args, **self._kwargs)\n",
      "  File \"C:\\Vishnu Conda\\envs\\LLM\\lib\\site-packages\\hypercorn\\asyncio\\run.py\", line 196, in asyncio_worker\n",
      "    _run(\n",
      "  File \"C:\\Vishnu Conda\\envs\\LLM\\lib\\site-packages\\hypercorn\\asyncio\\run.py\", line 234, in _run\n",
      "    runner.run(main(shutdown_trigger=shutdown_trigger))\n",
      "  File \"C:\\Vishnu Conda\\envs\\LLM\\lib\\site-packages\\taskgroup\\runners.py\", line 68, in __exit__\n",
      "    self.close()\n",
      "  File \"C:\\Vishnu Conda\\envs\\LLM\\lib\\site-packages\\taskgroup\\runners.py\", line 78, in close\n",
      "    loop.run_until_complete(loop.shutdown_default_executor())\n",
      "AttributeError: 'ProactorEventLoop' object has no attribute 'shutdown_default_executor'\n"
     ]
    }
   ],
   "source": [
    "!hypercorn main:app --reload\n"
   ]
  },
  {
   "cell_type": "code",
   "execution_count": 4,
   "metadata": {},
   "outputs": [
    {
     "name": "stdout",
     "output_type": "stream",
     "text": [
      "System PATH directories:\n",
      "c:\\Vishnu Conda\\envs\\LLM\n",
      "C:\\Vishnu Conda\\envs\\LLM\n",
      "C:\\Vishnu Conda\\envs\\LLM\\Library\\mingw-w64\\bin\n",
      "C:\\Vishnu Conda\\envs\\LLM\\Library\\usr\\bin\n",
      "C:\\Vishnu Conda\\envs\\LLM\\Library\\bin\n",
      "C:\\Vishnu Conda\\envs\\LLM\\Scripts\n",
      "C:\\Vishnu Conda\\envs\\LLM\\bin\n",
      "C:\\Vishnu Conda\\condabin\n",
      "C:\\Program Files\\Common Files\\Oracle\\Java\\javapath\n",
      "C:\\Program Files\\Microsoft HPC Pack 2008 R2\\Bin\n",
      "C:\\Windows\\system32\n",
      "C:\\Windows\n",
      "C:\\Windows\\System32\\Wbem\n",
      "C:\\Windows\\System32\\WindowsPowerShell\\v1.0\n",
      "C:\\Windows\\System32\\OpenSSH\n",
      "C:\\Program Files\\dotnet\n",
      "C:\\Users\\GurumurthyThonukunoo\\AppData\\Local\\Microsoft\\WindowsApps\n",
      "C:\\Users\\GurumurthyThonukunoo\\AppData\\Local\\Programs\\Microsoft VS Code\\bin\n",
      "C:\\Users\\GurumurthyThonukunoo\\AppData\\Roaming\\npm\n",
      "C:\\adb\n",
      "C:\\Program Files\\Git LFS\n",
      "C:\\Program Files (x86)\\dotnet\n",
      "C:\\Program Files\\Docker\\Docker\\resources\\bin\n",
      "C:\\Program Files\\Git\\cmd\n",
      "C:\\Program Files\\Java\\jdk-18.0.2.1\\bin\n",
      "D:\\Android Studio\\bin\n",
      "D:\\\n",
      "C:\\Users\\GurumurthyThonukunoo\\AppData\\Local\\Packages\\PythonSoftwareFoundation.Python.3.9_qbz5n2kfra8p0\\LocalCache\\local-packages\\Python39\\site-packages\n",
      "C:\\Users\\GurumurthyThonukunoo\\AppData\\Roaming\\nvm\n",
      "C:\\Program Files\\nodejs\n",
      "C:\\Program Files\\nodejs\n",
      "C:\\Program Files\\Amazon\\AWSSAMCLI\\bin\n",
      "C:\\Program Files\\MySQL\\MySQL Shell 8.0\\bin\n",
      "C:\\Users\\GurumurthyThonukunoo\\.cargo\\bin\n",
      "C:\\Users\\GurumurthyThonukunoo\\AppData\\Local\\Microsoft\\WindowsApps\n",
      "C:\\Program Files\\heroku\\bin\n",
      "D:\\Microsoft VS Code\\bin\n",
      "C:\\Users\\GurumurthyThonukunoo\\AppData\\Local\\Programs\\Microsoft VS Code\\bin\n",
      "C:\\Users\\GurumurthyThonukunoo\\AppData\\Roaming\\nvm\n",
      "C:\\Program Files\\nodejs\n",
      "C:\\Users\\GurumurthyThonukunoo\\AppData\\Roaming\\npm\n",
      "\n",
      "Python sys.path directories:\n",
      "c:\\Vishnu Conda\\envs\\LLM\\python38.zip\n",
      "c:\\Vishnu Conda\\envs\\LLM\\DLLs\n",
      "c:\\Vishnu Conda\\envs\\LLM\\lib\n",
      "c:\\Vishnu Conda\\envs\\LLM\n",
      "\n",
      "c:\\Vishnu Conda\\envs\\LLM\\lib\\site-packages\n",
      "c:\\Vishnu Conda\\envs\\LLM\\lib\\site-packages\\win32\n",
      "c:\\Vishnu Conda\\envs\\LLM\\lib\\site-packages\\win32\\lib\n",
      "c:\\Vishnu Conda\\envs\\LLM\\lib\\site-packages\\Pythonwin\n"
     ]
    }
   ],
   "source": [
    "import sys\n",
    "import os\n",
    "\n",
    "# Display the directories in the PATH environment variable\n",
    "print(\"System PATH directories:\")\n",
    "for path in os.environ['PATH'].split(os.pathsep):\n",
    "    print(path)\n",
    "\n",
    "# Display the directories in sys.path\n",
    "print(\"\\nPython sys.path directories:\")\n",
    "for path in sys.path:\n",
    "    print(path)\n"
   ]
  },
  {
   "cell_type": "code",
   "execution_count": 5,
   "metadata": {},
   "outputs": [
    {
     "name": "stdout",
     "output_type": "stream",
     "text": [
      "Scripts directory found in PATH: C:\\Vishnu Conda\\envs\\LLM\\Scripts\n"
     ]
    }
   ],
   "source": [
    "import os\n",
    "\n",
    "scripts_dir_found = False\n",
    "\n",
    "# Check if Scripts directory is in the PATH\n",
    "for path in os.environ['PATH'].split(os.pathsep):\n",
    "    if 'Scripts' in path:\n",
    "        scripts_dir_found = True\n",
    "        print(f\"Scripts directory found in PATH: {path}\")\n",
    "\n",
    "if not scripts_dir_found:\n",
    "    print(\"Scripts directory not found in PATH.\")\n",
    "\n"
   ]
  },
  {
   "cell_type": "code",
   "execution_count": 10,
   "metadata": {},
   "outputs": [
    {
     "name": "stdout",
     "output_type": "stream",
     "text": [
      "Updated PATH:\n",
      "c:\\Vishnu Conda\\envs\\LLM\n",
      "C:\\Vishnu Conda\\envs\\LLM\n",
      "C:\\Vishnu Conda\\envs\\LLM\\Library\\mingw-w64\\bin\n",
      "C:\\Vishnu Conda\\envs\\LLM\\Library\\usr\\bin\n",
      "C:\\Vishnu Conda\\envs\\LLM\\Library\\bin\n",
      "C:\\Vishnu Conda\\envs\\LLM\\Scripts\n",
      "C:\\Vishnu Conda\\envs\\LLM\\bin\n",
      "C:\\Vishnu Conda\\condabin\n",
      "C:\\Program Files\\Common Files\\Oracle\\Java\\javapath\n",
      "C:\\Program Files\\Microsoft HPC Pack 2008 R2\\Bin\n",
      "C:\\Windows\\system32\n",
      "C:\\Windows\n",
      "C:\\Windows\\System32\\Wbem\n",
      "C:\\Windows\\System32\\WindowsPowerShell\\v1.0\n",
      "C:\\Windows\\System32\\OpenSSH\n",
      "C:\\Program Files\\dotnet\n",
      "C:\\Users\\GurumurthyThonukunoo\\AppData\\Local\\Microsoft\\WindowsApps\n",
      "C:\\Users\\GurumurthyThonukunoo\\AppData\\Local\\Programs\\Microsoft VS Code\\bin\n",
      "C:\\Users\\GurumurthyThonukunoo\\AppData\\Roaming\\npm\n",
      "C:\\adb\n",
      "C:\\Program Files\\Git LFS\n",
      "C:\\Program Files (x86)\\dotnet\n",
      "C:\\Program Files\\Docker\\Docker\\resources\\bin\n",
      "C:\\Program Files\\Git\\cmd\n",
      "C:\\Program Files\\Java\\jdk-18.0.2.1\\bin\n",
      "D:\\Android Studio\\bin\n",
      "D:\\\n",
      "C:\\Users\\GurumurthyThonukunoo\\AppData\\Local\\Packages\\PythonSoftwareFoundation.Python.3.9_qbz5n2kfra8p0\\LocalCache\\local-packages\\Python39\\site-packages\n",
      "C:\\Users\\GurumurthyThonukunoo\\AppData\\Roaming\\nvm\n",
      "C:\\Program Files\\nodejs\n",
      "C:\\Program Files\\nodejs\n",
      "C:\\Program Files\\Amazon\\AWSSAMCLI\\bin\n",
      "C:\\Program Files\\MySQL\\MySQL Shell 8.0\\bin\n",
      "C:\\Users\\GurumurthyThonukunoo\\.cargo\\bin\n",
      "C:\\Users\\GurumurthyThonukunoo\\AppData\\Local\\Microsoft\\WindowsApps\n",
      "C:\\Program Files\\heroku\\bin\n",
      "D:\\Microsoft VS Code\\bin\n",
      "C:\\Users\\GurumurthyThonukunoo\\AppData\\Local\\Programs\\Microsoft VS Code\\bin\n",
      "C:\\Users\\GurumurthyThonukunoo\\AppData\\Roaming\\nvm\n",
      "C:\\Program Files\\nodejs\n",
      "C:\\Users\\GurumurthyThonukunoo\\AppData\\Roaming\\npm\n",
      "C:\\Vishnu Conda\\envs\\LLM\\Scripts\n",
      "C:\\Vishnu Conda\\envs\\LLM\\Scripts\n"
     ]
    }
   ],
   "source": [
    "import os\n",
    "\n",
    "# Define the Scripts directory path\n",
    "scripts_dir = r'C:\\Vishnu Conda\\envs\\LLM\\Scripts'  # Adjust this path as necessary\n",
    "\n",
    "# Add the Scripts directory to the PATH environment variable\n",
    "os.environ['PATH'] += os.pathsep + scripts_dir\n",
    "\n",
    "# Verify the updated PATH\n",
    "print(\"Updated PATH:\")\n",
    "for path in os.environ['PATH'].split(os.pathsep):\n",
    "    print(path)"
   ]
  },
  {
   "cell_type": "code",
   "execution_count": 11,
   "metadata": {},
   "outputs": [
    {
     "name": "stdout",
     "output_type": "stream",
     "text": [
      "Uvicorn is installed.\n"
     ]
    }
   ],
   "source": [
    "try:\n",
    "    import uvicorn\n",
    "    print(\"Uvicorn is installed.\")\n",
    "except ImportError:\n",
    "    print(\"Uvicorn is not installed. Please install it using 'pip install uvicorn'.\")\n"
   ]
  },
  {
   "cell_type": "code",
   "execution_count": 13,
   "metadata": {},
   "outputs": [
    {
     "name": "stdout",
     "output_type": "stream",
     "text": [
      "^C\n"
     ]
    }
   ],
   "source": [
    "!python -m uvicorn main:app --reload\n"
   ]
  },
  {
   "cell_type": "code",
   "execution_count": 14,
   "metadata": {},
   "outputs": [
    {
     "name": "stdout",
     "output_type": "stream",
     "text": [
      "^C\n",
      "Creating directory 'd:\\\\LLM-PROD-APP\\\\Backend\\\\alembic' ...  done"
     ]
    },
    {
     "name": "stdout",
     "output_type": "stream",
     "text": [
      "\n",
      "Creating directory 'd:\\\\LLM-PROD-APP\\\\Backend\\\\alembic\\\\versions' ...  done\n",
      "Generating d:\\LLM-PROD-APP\\Backend\\alembic.ini ...  done\n",
      "Generating d:\\LLM-PROD-APP\\Backend\\alembic\\env.py ...  done\n",
      "Generating d:\\LLM-PROD-APP\\Backend\\alembic\\README ...  done\n",
      "Generating d:\\LLM-PROD-APP\\Backend\\alembic\\script.py.mako ...  done\n",
      "Please edit configuration/connection/logging settings in 'd:\\\\LLM-PROD-APP\\\\Backend\\\\alembic.ini' before proceeding.\n"
     ]
    }
   ],
   "source": [
    "!alembic init alembic"
   ]
  },
  {
   "cell_type": "code",
   "execution_count": 15,
   "metadata": {},
   "outputs": [
    {
     "name": "stdout",
     "output_type": "stream",
     "text": [
      "^C\n",
      "Generating d:\\LLM-PROD-APP\\Backend\\alembic\\versions\\5dd5fe760ba5_create_todos_table.py ...  done\n"
     ]
    }
   ],
   "source": [
    "!alembic revision -m \"create todos table\""
   ]
  },
  {
   "cell_type": "code",
   "execution_count": 21,
   "metadata": {},
   "outputs": [
    {
     "name": "stdout",
     "output_type": "stream",
     "text": [
      "^C\n"
     ]
    }
   ],
   "source": [
    "!psql -d mydatabase"
   ]
  },
  {
   "cell_type": "code",
   "execution_count": 22,
   "metadata": {},
   "outputs": [
    {
     "name": "stdout",
     "output_type": "stream",
     "text": [
      "User 'user123' created and granted all privileges on database 'mydatabase'.\n"
     ]
    }
   ],
   "source": [
    "import psycopg2\n",
    "from psycopg2 import sql\n",
    "\n",
    "# Replace these values with your actual PostgreSQL credentials and desired new user details\n",
    "superuser = 'postgres'  # The superuser or admin user\n",
    "password = '#Mushoku200301'  # Password for the superuser\n",
    "host = 'localhost'\n",
    "port = '5432'\n",
    "dbname = 'mydatabase'  # The database on which to grant privileges\n",
    "\n",
    "new_user = 'user123'\n",
    "new_password = 'Simple#123'\n",
    "\n",
    "try:\n",
    "    # Connect to the PostgreSQL server as the superuser\n",
    "    conn = psycopg2.connect(dbname='postgres', user=superuser, password=password, host=host, port=port)\n",
    "    conn.autocommit = True  # Automatically commit changes\n",
    "    cursor = conn.cursor()\n",
    "\n",
    "    # Create the new user with a password\n",
    "    create_user_query = sql.SQL(\"CREATE USER {} WITH PASSWORD %s;\").format(sql.Identifier(new_user))\n",
    "    cursor.execute(create_user_query, [new_password])\n",
    "\n",
    "    # Grant all privileges on the database to the new user\n",
    "    grant_privileges_query = sql.SQL(\"GRANT ALL PRIVILEGES ON DATABASE {} TO {};\").format(\n",
    "        sql.Identifier(dbname),\n",
    "        sql.Identifier(new_user)\n",
    "    )\n",
    "    cursor.execute(grant_privileges_query)\n",
    "\n",
    "    print(f\"User '{new_user}' created and granted all privileges on database '{dbname}'.\")\n",
    "\n",
    "except Exception as e:\n",
    "    print(f\"An error occurred: {e}\")\n",
    "\n",
    "finally:\n",
    "    if cursor:\n",
    "        cursor.close()\n",
    "    if conn:\n",
    "        conn.close()\n"
   ]
  },
  {
   "cell_type": "code",
   "execution_count": 23,
   "metadata": {},
   "outputs": [
    {
     "name": "stdout",
     "output_type": "stream",
     "text": [
      "Password for user 'user123' changed successfully.\n"
     ]
    }
   ],
   "source": [
    "import psycopg2\n",
    "from psycopg2 import sql\n",
    "\n",
    "# Replace these values with your actual PostgreSQL credentials and the user details\n",
    "superuser = 'postgres'  # The superuser or admin user\n",
    "password = '#Mushoku200301'  # Password for the superuser\n",
    "host = 'localhost'\n",
    "port = '5432'\n",
    "\n",
    "existing_user = 'user123'\n",
    "new_password = 'pass12'\n",
    "\n",
    "try:\n",
    "    # Connect to the PostgreSQL server as the superuser\n",
    "    conn = psycopg2.connect(dbname='postgres', user=superuser, password=password, host=host, port=port)\n",
    "    conn.autocommit = True  # Automatically commit changes\n",
    "    cursor = conn.cursor()\n",
    "\n",
    "    # Change the password for the existing user\n",
    "    change_password_query = sql.SQL(\"ALTER USER {} WITH PASSWORD %s;\").format(sql.Identifier(existing_user))\n",
    "    cursor.execute(change_password_query, [new_password])\n",
    "\n",
    "    print(f\"Password for user '{existing_user}' changed successfully.\")\n",
    "\n",
    "except Exception as e:\n",
    "    print(f\"An error occurred: {e}\")\n",
    "\n",
    "finally:\n",
    "    if cursor:\n",
    "        cursor.close()\n",
    "    if conn:\n",
    "        conn.close()\n"
   ]
  },
  {
   "cell_type": "markdown",
   "metadata": {},
   "source": [
    "### Now to update the alembic head"
   ]
  },
  {
   "cell_type": "code",
   "execution_count": 30,
   "metadata": {},
   "outputs": [
    {
     "name": "stderr",
     "output_type": "stream",
     "text": [
      "Traceback (most recent call last):\n",
      "  File \"C:\\Vishnu Conda\\envs\\LLM\\lib\\site-packages\\sqlalchemy\\engine\\base.py\", line 146, in __init__\n",
      "    self._dbapi_connection = engine.raw_connection()\n",
      "  File \"C:\\Vishnu Conda\\envs\\LLM\\lib\\site-packages\\sqlalchemy\\engine\\base.py\", line 3300, in raw_connection\n",
      "    return self.pool.connect()\n",
      "  File \"C:\\Vishnu Conda\\envs\\LLM\\lib\\site-packages\\sqlalchemy\\pool\\base.py\", line 449, in connect\n",
      "    return _ConnectionFairy._checkout(self)\n",
      "  File \"C:\\Vishnu Conda\\envs\\LLM\\lib\\site-packages\\sqlalchemy\\pool\\base.py\", line 1263, in _checkout\n",
      "    fairy = _ConnectionRecord.checkout(pool)\n",
      "  File \"C:\\Vishnu Conda\\envs\\LLM\\lib\\site-packages\\sqlalchemy\\pool\\base.py\", line 712, in checkout\n",
      "    rec = pool._do_get()\n",
      "  File \"C:\\Vishnu Conda\\envs\\LLM\\lib\\site-packages\\sqlalchemy\\pool\\impl.py\", line 308, in _do_get\n",
      "    return self._create_connection()\n",
      "  File \"C:\\Vishnu Conda\\envs\\LLM\\lib\\site-packages\\sqlalchemy\\pool\\base.py\", line 390, in _create_connection\n",
      "    return _ConnectionRecord(self)\n",
      "  File \"C:\\Vishnu Conda\\envs\\LLM\\lib\\site-packages\\sqlalchemy\\pool\\base.py\", line 674, in __init__\n",
      "    self.__connect()\n",
      "  File \"C:\\Vishnu Conda\\envs\\LLM\\lib\\site-packages\\sqlalchemy\\pool\\base.py\", line 901, in __connect\n",
      "    pool.logger.debug(\"Error on connect(): %s\", e)\n",
      "  File \"C:\\Vishnu Conda\\envs\\LLM\\lib\\site-packages\\sqlalchemy\\util\\langhelpers.py\", line 146, in __exit__\n",
      "    raise exc_value.with_traceback(exc_tb)\n",
      "  File \"C:\\Vishnu Conda\\envs\\LLM\\lib\\site-packages\\sqlalchemy\\pool\\base.py\", line 896, in __connect\n",
      "    self.dbapi_connection = connection = pool._invoke_creator(self)\n",
      "  File \"C:\\Vishnu Conda\\envs\\LLM\\lib\\site-packages\\sqlalchemy\\engine\\create.py\", line 643, in connect\n",
      "    return dialect.connect(*cargs, **cparams)\n",
      "  File \"C:\\Vishnu Conda\\envs\\LLM\\lib\\site-packages\\sqlalchemy\\engine\\default.py\", line 620, in connect\n",
      "    return self.loaded_dbapi.connect(*cargs, **cparams)\n",
      "  File \"C:\\Vishnu Conda\\envs\\LLM\\lib\\site-packages\\psycopg2\\__init__.py\", line 122, in connect\n",
      "    conn = _connect(dsn, connection_factory=connection_factory, **kwasync)\n",
      "psycopg2.OperationalError: connection to server at \"localhost\" (::1), port 5432 failed: FATAL:  password authentication failed for user \"postgre\"\n",
      "\n",
      "\n",
      "The above exception was the direct cause of the following exception:\n",
      "\n",
      "Traceback (most recent call last):\n",
      "  File \"C:\\Vishnu Conda\\envs\\LLM\\lib\\runpy.py\", line 194, in _run_module_as_main\n",
      "    return _run_code(code, main_globals, None,\n",
      "  File \"C:\\Vishnu Conda\\envs\\LLM\\lib\\runpy.py\", line 87, in _run_code\n",
      "    exec(code, run_globals)\n",
      "  File \"C:\\Vishnu Conda\\envs\\LLM\\Scripts\\alembic.exe\\__main__.py\", line 7, in <module>\n",
      "  File \"C:\\Vishnu Conda\\envs\\LLM\\lib\\site-packages\\alembic\\config.py\", line 636, in main\n",
      "    CommandLine(prog=prog).main(argv=argv)\n",
      "  File \"C:\\Vishnu Conda\\envs\\LLM\\lib\\site-packages\\alembic\\config.py\", line 626, in main\n",
      "    self.run_cmd(cfg, options)\n",
      "  File \"C:\\Vishnu Conda\\envs\\LLM\\lib\\site-packages\\alembic\\config.py\", line 603, in run_cmd\n",
      "    fn(\n",
      "  File \"C:\\Vishnu Conda\\envs\\LLM\\lib\\site-packages\\alembic\\command.py\", line 406, in upgrade\n",
      "    script.run_env()\n",
      "  File \"C:\\Vishnu Conda\\envs\\LLM\\lib\\site-packages\\alembic\\script\\base.py\", line 582, in run_env\n",
      "    util.load_python_file(self.dir, \"env.py\")\n",
      "  File \"C:\\Vishnu Conda\\envs\\LLM\\lib\\site-packages\\alembic\\util\\pyfiles.py\", line 95, in load_python_file\n",
      "    module = load_module_py(module_id, path)\n",
      "  File \"C:\\Vishnu Conda\\envs\\LLM\\lib\\site-packages\\alembic\\util\\pyfiles.py\", line 113, in load_module_py\n",
      "    spec.loader.exec_module(module)  # type: ignore\n",
      "  File \"<frozen importlib._bootstrap_external>\", line 843, in exec_module\n",
      "  File \"<frozen importlib._bootstrap>\", line 219, in _call_with_frames_removed\n",
      "  File \"alembic\\env.py\", line 87, in <module>\n",
      "    run_migrations_online()\n",
      "  File \"alembic\\env.py\", line 75, in run_migrations_online\n",
      "    with connectable.connect() as connection:\n",
      "  File \"C:\\Vishnu Conda\\envs\\LLM\\lib\\site-packages\\sqlalchemy\\engine\\base.py\", line 3276, in connect\n",
      "    return self._connection_cls(self)\n",
      "  File \"C:\\Vishnu Conda\\envs\\LLM\\lib\\site-packages\\sqlalchemy\\engine\\base.py\", line 148, in __init__\n",
      "    Connection._handle_dbapi_exception_noconnection(\n",
      "  File \"C:\\Vishnu Conda\\envs\\LLM\\lib\\site-packages\\sqlalchemy\\engine\\base.py\", line 2440, in _handle_dbapi_exception_noconnection\n",
      "    raise sqlalchemy_exception.with_traceback(exc_info[2]) from e\n",
      "  File \"C:\\Vishnu Conda\\envs\\LLM\\lib\\site-packages\\sqlalchemy\\engine\\base.py\", line 146, in __init__\n",
      "    self._dbapi_connection = engine.raw_connection()\n",
      "  File \"C:\\Vishnu Conda\\envs\\LLM\\lib\\site-packages\\sqlalchemy\\engine\\base.py\", line 3300, in raw_connection\n",
      "    return self.pool.connect()\n",
      "  File \"C:\\Vishnu Conda\\envs\\LLM\\lib\\site-packages\\sqlalchemy\\pool\\base.py\", line 449, in connect\n",
      "    return _ConnectionFairy._checkout(self)\n",
      "  File \"C:\\Vishnu Conda\\envs\\LLM\\lib\\site-packages\\sqlalchemy\\pool\\base.py\", line 1263, in _checkout\n",
      "    fairy = _ConnectionRecord.checkout(pool)\n",
      "  File \"C:\\Vishnu Conda\\envs\\LLM\\lib\\site-packages\\sqlalchemy\\pool\\base.py\", line 712, in checkout\n",
      "    rec = pool._do_get()\n",
      "  File \"C:\\Vishnu Conda\\envs\\LLM\\lib\\site-packages\\sqlalchemy\\pool\\impl.py\", line 308, in _do_get\n",
      "    return self._create_connection()\n",
      "  File \"C:\\Vishnu Conda\\envs\\LLM\\lib\\site-packages\\sqlalchemy\\pool\\base.py\", line 390, in _create_connection\n",
      "    return _ConnectionRecord(self)\n",
      "  File \"C:\\Vishnu Conda\\envs\\LLM\\lib\\site-packages\\sqlalchemy\\pool\\base.py\", line 674, in __init__\n",
      "    self.__connect()\n",
      "  File \"C:\\Vishnu Conda\\envs\\LLM\\lib\\site-packages\\sqlalchemy\\pool\\base.py\", line 901, in __connect\n",
      "    pool.logger.debug(\"Error on connect(): %s\", e)\n",
      "  File \"C:\\Vishnu Conda\\envs\\LLM\\lib\\site-packages\\sqlalchemy\\util\\langhelpers.py\", line 146, in __exit__\n",
      "    raise exc_value.with_traceback(exc_tb)\n",
      "  File \"C:\\Vishnu Conda\\envs\\LLM\\lib\\site-packages\\sqlalchemy\\pool\\base.py\", line 896, in __connect\n",
      "    self.dbapi_connection = connection = pool._invoke_creator(self)\n",
      "  File \"C:\\Vishnu Conda\\envs\\LLM\\lib\\site-packages\\sqlalchemy\\engine\\create.py\", line 643, in connect\n",
      "    return dialect.connect(*cargs, **cparams)\n",
      "  File \"C:\\Vishnu Conda\\envs\\LLM\\lib\\site-packages\\sqlalchemy\\engine\\default.py\", line 620, in connect\n",
      "    return self.loaded_dbapi.connect(*cargs, **cparams)\n",
      "  File \"C:\\Vishnu Conda\\envs\\LLM\\lib\\site-packages\\psycopg2\\__init__.py\", line 122, in connect\n",
      "    conn = _connect(dsn, connection_factory=connection_factory, **kwasync)\n",
      "sqlalchemy.exc.OperationalError: (psycopg2.OperationalError) connection to server at \"localhost\" (::1), port 5432 failed: FATAL:  password authentication failed for user \"postgre\"\n",
      "\n",
      "(Background on this error at: https://sqlalche.me/e/20/e3q8)\n"
     ]
    }
   ],
   "source": [
    "!alembic upgrade head"
   ]
  },
  {
   "cell_type": "code",
   "execution_count": 29,
   "metadata": {},
   "outputs": [
    {
     "name": "stdout",
     "output_type": "stream",
     "text": [
      "Password for superuser 'postgres' changed successfully.\n"
     ]
    }
   ],
   "source": [
    "import psycopg2\n",
    "from psycopg2 import sql\n",
    "\n",
    "# Replace these values with your actual PostgreSQL credentials and the new password\n",
    "current_superuser = 'postgres'\n",
    "current_password = '#Mushoku200301'\n",
    "host = 'localhost'\n",
    "port = '5432'\n",
    "new_password = 'pass12'\n",
    "\n",
    "try:\n",
    "    # Connect to the PostgreSQL server as the superuser\n",
    "    conn = psycopg2.connect(dbname='postgres', user=current_superuser, password=current_password, host=host, port=port)\n",
    "    conn.autocommit = True  # Automatically commit changes\n",
    "    cursor = conn.cursor()\n",
    "\n",
    "    # Change the password for the superuser\n",
    "    change_password_query = sql.SQL(\"ALTER USER {} WITH PASSWORD %s;\").format(sql.Identifier(current_superuser))\n",
    "    cursor.execute(change_password_query, [new_password])\n",
    "\n",
    "    print(f\"Password for superuser '{current_superuser}' changed successfully.\")\n",
    "\n",
    "except Exception as e:\n",
    "    print(f\"An error occurred: {e}\")\n",
    "\n",
    "finally:\n",
    "    if cursor:\n",
    "        cursor.close()\n",
    "    if conn:\n",
    "        conn.close()\n"
   ]
  },
  {
   "cell_type": "code",
   "execution_count": 32,
   "metadata": {},
   "outputs": [
    {
     "name": "stdout",
     "output_type": "stream",
     "text": [
      "User 'user123' exists.\n"
     ]
    }
   ],
   "source": [
    "import psycopg2\n",
    "\n",
    "# Replace these values with your actual PostgreSQL credentials\n",
    "superuser = 'postgres'\n",
    "password = 'pass12'\n",
    "host = 'localhost'\n",
    "port = '5432'\n",
    "\n",
    "username_to_check = 'user123'\n",
    "\n",
    "try:\n",
    "    # Connect to the PostgreSQL server as the superuser\n",
    "    conn = psycopg2.connect(dbname='postgres', user=superuser, password=password, host=host, port=port)\n",
    "    conn.autocommit = True  # Automatically commit changes\n",
    "    cursor = conn.cursor()\n",
    "\n",
    "    # Query to check if the user exists\n",
    "    check_user_query = \"SELECT 1 FROM pg_catalog.pg_user WHERE usename = %s;\"\n",
    "    cursor.execute(check_user_query, (username_to_check,))\n",
    "    \n",
    "    # Fetch the result\n",
    "    user_exists = cursor.fetchone() is not None\n",
    "\n",
    "    if user_exists:\n",
    "        print(f\"User '{username_to_check}' exists.\")\n",
    "    else:\n",
    "        print(f\"User '{username_to_check}' does not exist.\")\n",
    "\n",
    "except Exception as e:\n",
    "    print(f\"An error occurred: {e}\")\n",
    "\n",
    "finally:\n",
    "    if cursor:\n",
    "        cursor.close()\n",
    "    if conn:\n",
    "        conn.close()\n"
   ]
  },
  {
   "cell_type": "code",
   "execution_count": 38,
   "metadata": {},
   "outputs": [
    {
     "name": "stderr",
     "output_type": "stream",
     "text": [
      "Traceback (most recent call last):\n",
      "  File \"C:\\Vishnu Conda\\envs\\LLM\\lib\\site-packages\\sqlalchemy\\engine\\base.py\", line 146, in __init__\n",
      "    self._dbapi_connection = engine.raw_connection()\n",
      "  File \"C:\\Vishnu Conda\\envs\\LLM\\lib\\site-packages\\sqlalchemy\\engine\\base.py\", line 3300, in raw_connection\n",
      "    return self.pool.connect()\n",
      "  File \"C:\\Vishnu Conda\\envs\\LLM\\lib\\site-packages\\sqlalchemy\\pool\\base.py\", line 449, in connect\n",
      "    return _ConnectionFairy._checkout(self)\n",
      "  File \"C:\\Vishnu Conda\\envs\\LLM\\lib\\site-packages\\sqlalchemy\\pool\\base.py\", line 1263, in _checkout\n",
      "    fairy = _ConnectionRecord.checkout(pool)\n",
      "  File \"C:\\Vishnu Conda\\envs\\LLM\\lib\\site-packages\\sqlalchemy\\pool\\base.py\", line 712, in checkout\n",
      "    rec = pool._do_get()\n",
      "  File \"C:\\Vishnu Conda\\envs\\LLM\\lib\\site-packages\\sqlalchemy\\pool\\impl.py\", line 308, in _do_get\n",
      "    return self._create_connection()\n",
      "  File \"C:\\Vishnu Conda\\envs\\LLM\\lib\\site-packages\\sqlalchemy\\pool\\base.py\", line 390, in _create_connection\n",
      "    return _ConnectionRecord(self)\n",
      "  File \"C:\\Vishnu Conda\\envs\\LLM\\lib\\site-packages\\sqlalchemy\\pool\\base.py\", line 674, in __init__\n",
      "    self.__connect()\n",
      "  File \"C:\\Vishnu Conda\\envs\\LLM\\lib\\site-packages\\sqlalchemy\\pool\\base.py\", line 901, in __connect\n",
      "    pool.logger.debug(\"Error on connect(): %s\", e)\n",
      "  File \"C:\\Vishnu Conda\\envs\\LLM\\lib\\site-packages\\sqlalchemy\\util\\langhelpers.py\", line 146, in __exit__\n",
      "    raise exc_value.with_traceback(exc_tb)\n",
      "  File \"C:\\Vishnu Conda\\envs\\LLM\\lib\\site-packages\\sqlalchemy\\pool\\base.py\", line 896, in __connect\n",
      "    self.dbapi_connection = connection = pool._invoke_creator(self)\n",
      "  File \"C:\\Vishnu Conda\\envs\\LLM\\lib\\site-packages\\sqlalchemy\\engine\\create.py\", line 643, in connect\n",
      "    return dialect.connect(*cargs, **cparams)\n",
      "  File \"C:\\Vishnu Conda\\envs\\LLM\\lib\\site-packages\\sqlalchemy\\engine\\default.py\", line 620, in connect\n",
      "    return self.loaded_dbapi.connect(*cargs, **cparams)\n",
      "  File \"C:\\Vishnu Conda\\envs\\LLM\\lib\\site-packages\\psycopg2\\__init__.py\", line 122, in connect\n",
      "    conn = _connect(dsn, connection_factory=connection_factory, **kwasync)\n",
      "psycopg2.OperationalError: connection to server at \"localhost\" (::1), port 5432 failed: FATAL:  password authentication failed for user \"postgre\"\n",
      "\n",
      "\n",
      "The above exception was the direct cause of the following exception:\n",
      "\n",
      "Traceback (most recent call last):\n",
      "  File \"C:\\Vishnu Conda\\envs\\LLM\\lib\\runpy.py\", line 194, in _run_module_as_main\n",
      "    return _run_code(code, main_globals, None,\n",
      "  File \"C:\\Vishnu Conda\\envs\\LLM\\lib\\runpy.py\", line 87, in _run_code\n",
      "    exec(code, run_globals)\n",
      "  File \"C:\\Vishnu Conda\\envs\\LLM\\Scripts\\alembic.exe\\__main__.py\", line 7, in <module>\n",
      "  File \"C:\\Vishnu Conda\\envs\\LLM\\lib\\site-packages\\alembic\\config.py\", line 636, in main\n",
      "    CommandLine(prog=prog).main(argv=argv)\n",
      "  File \"C:\\Vishnu Conda\\envs\\LLM\\lib\\site-packages\\alembic\\config.py\", line 626, in main\n",
      "    self.run_cmd(cfg, options)\n",
      "  File \"C:\\Vishnu Conda\\envs\\LLM\\lib\\site-packages\\alembic\\config.py\", line 603, in run_cmd\n",
      "    fn(\n",
      "  File \"C:\\Vishnu Conda\\envs\\LLM\\lib\\site-packages\\alembic\\command.py\", line 406, in upgrade\n",
      "    script.run_env()\n",
      "  File \"C:\\Vishnu Conda\\envs\\LLM\\lib\\site-packages\\alembic\\script\\base.py\", line 582, in run_env\n",
      "    util.load_python_file(self.dir, \"env.py\")\n",
      "  File \"C:\\Vishnu Conda\\envs\\LLM\\lib\\site-packages\\alembic\\util\\pyfiles.py\", line 95, in load_python_file\n",
      "    module = load_module_py(module_id, path)\n",
      "  File \"C:\\Vishnu Conda\\envs\\LLM\\lib\\site-packages\\alembic\\util\\pyfiles.py\", line 113, in load_module_py\n",
      "    spec.loader.exec_module(module)  # type: ignore\n",
      "  File \"<frozen importlib._bootstrap_external>\", line 843, in exec_module\n",
      "  File \"<frozen importlib._bootstrap>\", line 219, in _call_with_frames_removed\n",
      "  File \"alembic\\env.py\", line 87, in <module>\n",
      "    run_migrations_online()\n",
      "  File \"alembic\\env.py\", line 75, in run_migrations_online\n",
      "    with connectable.connect() as connection:\n",
      "  File \"C:\\Vishnu Conda\\envs\\LLM\\lib\\site-packages\\sqlalchemy\\engine\\base.py\", line 3276, in connect\n",
      "    return self._connection_cls(self)\n",
      "  File \"C:\\Vishnu Conda\\envs\\LLM\\lib\\site-packages\\sqlalchemy\\engine\\base.py\", line 148, in __init__\n",
      "    Connection._handle_dbapi_exception_noconnection(\n",
      "  File \"C:\\Vishnu Conda\\envs\\LLM\\lib\\site-packages\\sqlalchemy\\engine\\base.py\", line 2440, in _handle_dbapi_exception_noconnection\n",
      "    raise sqlalchemy_exception.with_traceback(exc_info[2]) from e\n",
      "  File \"C:\\Vishnu Conda\\envs\\LLM\\lib\\site-packages\\sqlalchemy\\engine\\base.py\", line 146, in __init__\n",
      "    self._dbapi_connection = engine.raw_connection()\n",
      "  File \"C:\\Vishnu Conda\\envs\\LLM\\lib\\site-packages\\sqlalchemy\\engine\\base.py\", line 3300, in raw_connection\n",
      "    return self.pool.connect()\n",
      "  File \"C:\\Vishnu Conda\\envs\\LLM\\lib\\site-packages\\sqlalchemy\\pool\\base.py\", line 449, in connect\n",
      "    return _ConnectionFairy._checkout(self)\n",
      "  File \"C:\\Vishnu Conda\\envs\\LLM\\lib\\site-packages\\sqlalchemy\\pool\\base.py\", line 1263, in _checkout\n",
      "    fairy = _ConnectionRecord.checkout(pool)\n",
      "  File \"C:\\Vishnu Conda\\envs\\LLM\\lib\\site-packages\\sqlalchemy\\pool\\base.py\", line 712, in checkout\n",
      "    rec = pool._do_get()\n",
      "  File \"C:\\Vishnu Conda\\envs\\LLM\\lib\\site-packages\\sqlalchemy\\pool\\impl.py\", line 308, in _do_get\n",
      "    return self._create_connection()\n",
      "  File \"C:\\Vishnu Conda\\envs\\LLM\\lib\\site-packages\\sqlalchemy\\pool\\base.py\", line 390, in _create_connection\n",
      "    return _ConnectionRecord(self)\n",
      "  File \"C:\\Vishnu Conda\\envs\\LLM\\lib\\site-packages\\sqlalchemy\\pool\\base.py\", line 674, in __init__\n",
      "    self.__connect()\n",
      "  File \"C:\\Vishnu Conda\\envs\\LLM\\lib\\site-packages\\sqlalchemy\\pool\\base.py\", line 901, in __connect\n",
      "    pool.logger.debug(\"Error on connect(): %s\", e)\n",
      "  File \"C:\\Vishnu Conda\\envs\\LLM\\lib\\site-packages\\sqlalchemy\\util\\langhelpers.py\", line 146, in __exit__\n",
      "    raise exc_value.with_traceback(exc_tb)\n",
      "  File \"C:\\Vishnu Conda\\envs\\LLM\\lib\\site-packages\\sqlalchemy\\pool\\base.py\", line 896, in __connect\n",
      "    self.dbapi_connection = connection = pool._invoke_creator(self)\n",
      "  File \"C:\\Vishnu Conda\\envs\\LLM\\lib\\site-packages\\sqlalchemy\\engine\\create.py\", line 643, in connect\n",
      "    return dialect.connect(*cargs, **cparams)\n",
      "  File \"C:\\Vishnu Conda\\envs\\LLM\\lib\\site-packages\\sqlalchemy\\engine\\default.py\", line 620, in connect\n",
      "    return self.loaded_dbapi.connect(*cargs, **cparams)\n",
      "  File \"C:\\Vishnu Conda\\envs\\LLM\\lib\\site-packages\\psycopg2\\__init__.py\", line 122, in connect\n",
      "    conn = _connect(dsn, connection_factory=connection_factory, **kwasync)\n",
      "sqlalchemy.exc.OperationalError: (psycopg2.OperationalError) connection to server at \"localhost\" (::1), port 5432 failed: FATAL:  password authentication failed for user \"postgre\"\n",
      "\n",
      "(Background on this error at: https://sqlalche.me/e/20/e3q8)\n"
     ]
    }
   ],
   "source": [
    "!alembic upgrade head\n"
   ]
  },
  {
   "cell_type": "code",
   "execution_count": null,
   "metadata": {},
   "outputs": [],
   "source": []
  }
 ],
 "metadata": {
  "kernelspec": {
   "display_name": "LLM",
   "language": "python",
   "name": "python3"
  },
  "language_info": {
   "codemirror_mode": {
    "name": "ipython",
    "version": 3
   },
   "file_extension": ".py",
   "mimetype": "text/x-python",
   "name": "python",
   "nbconvert_exporter": "python",
   "pygments_lexer": "ipython3",
   "version": "3.8.19"
  }
 },
 "nbformat": 4,
 "nbformat_minor": 2
}
